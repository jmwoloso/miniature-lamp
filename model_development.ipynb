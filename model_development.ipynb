{
 "cells": [
  {
   "cell_type": "markdown",
   "metadata": {},
   "source": [
    "# Model Exploration\n",
    "\n",
    "### By Grant Lewis\n",
    "\n",
    "I started by first working with a Random Forest model. I then moved to working with XGBoost. I decided to build a few classes to simplify testing several different versions of these two model architectures.  I also decided to try incorporating PCA in an attempt to improve results. When neither seemed to be very succesful, I decided to try a simple deep neural network using pytorch.\n",
    "\n",
    "Inevitably, I was not completely satisfied with the results due to low evaluation results.  Given more time, I could have experimented other models and methods that could have produced better results. Generally, I would not include so many intermediate steps in my reports.  However, I chose to includ more of my raw experimentation and impressions to help illustrate my thought process and the steps I took to try to improve the model."
   ]
  },
  {
   "cell_type": "markdown",
   "metadata": {},
   "source": [
    "### Imports and Setup"
   ]
  },
  {
   "cell_type": "code",
   "execution_count": 88,
   "metadata": {},
   "outputs": [
    {
     "data": {
      "text/html": [
       "<div>\n",
       "<style scoped>\n",
       "    .dataframe tbody tr th:only-of-type {\n",
       "        vertical-align: middle;\n",
       "    }\n",
       "\n",
       "    .dataframe tbody tr th {\n",
       "        vertical-align: top;\n",
       "    }\n",
       "\n",
       "    .dataframe thead th {\n",
       "        text-align: right;\n",
       "    }\n",
       "</style>\n",
       "<table border=\"1\" class=\"dataframe\">\n",
       "  <thead>\n",
       "    <tr style=\"text-align: right;\">\n",
       "      <th></th>\n",
       "      <th>funded_amnt</th>\n",
       "      <th>term</th>\n",
       "      <th>int_rate</th>\n",
       "      <th>installment</th>\n",
       "      <th>emp_length</th>\n",
       "      <th>annual_inc</th>\n",
       "      <th>loan_status</th>\n",
       "      <th>dti</th>\n",
       "      <th>delinq_2yrs</th>\n",
       "      <th>earliest_cr_line</th>\n",
       "      <th>...</th>\n",
       "      <th>addr_state_SD</th>\n",
       "      <th>addr_state_TN</th>\n",
       "      <th>addr_state_TX</th>\n",
       "      <th>addr_state_UT</th>\n",
       "      <th>addr_state_VA</th>\n",
       "      <th>addr_state_VT</th>\n",
       "      <th>addr_state_WA</th>\n",
       "      <th>addr_state_WI</th>\n",
       "      <th>addr_state_WV</th>\n",
       "      <th>addr_state_WY</th>\n",
       "    </tr>\n",
       "  </thead>\n",
       "  <tbody>\n",
       "    <tr>\n",
       "      <th>0</th>\n",
       "      <td>35000</td>\n",
       "      <td>60</td>\n",
       "      <td>0.2549</td>\n",
       "      <td>1037.38</td>\n",
       "      <td>10.0</td>\n",
       "      <td>59000.00</td>\n",
       "      <td>1</td>\n",
       "      <td>25.28</td>\n",
       "      <td>1</td>\n",
       "      <td>66.000000</td>\n",
       "      <td>...</td>\n",
       "      <td>0</td>\n",
       "      <td>0</td>\n",
       "      <td>0</td>\n",
       "      <td>0</td>\n",
       "      <td>0</td>\n",
       "      <td>0</td>\n",
       "      <td>0</td>\n",
       "      <td>0</td>\n",
       "      <td>0</td>\n",
       "      <td>0</td>\n",
       "    </tr>\n",
       "    <tr>\n",
       "      <th>1</th>\n",
       "      <td>40000</td>\n",
       "      <td>36</td>\n",
       "      <td>0.0724</td>\n",
       "      <td>1239.48</td>\n",
       "      <td>0.0</td>\n",
       "      <td>20000.00</td>\n",
       "      <td>1</td>\n",
       "      <td>114.65</td>\n",
       "      <td>0</td>\n",
       "      <td>341.933333</td>\n",
       "      <td>...</td>\n",
       "      <td>0</td>\n",
       "      <td>0</td>\n",
       "      <td>0</td>\n",
       "      <td>0</td>\n",
       "      <td>0</td>\n",
       "      <td>0</td>\n",
       "      <td>0</td>\n",
       "      <td>0</td>\n",
       "      <td>0</td>\n",
       "      <td>0</td>\n",
       "    </tr>\n",
       "    <tr>\n",
       "      <th>2</th>\n",
       "      <td>25000</td>\n",
       "      <td>60</td>\n",
       "      <td>0.2869</td>\n",
       "      <td>788.84</td>\n",
       "      <td>0.0</td>\n",
       "      <td>77000.00</td>\n",
       "      <td>-3</td>\n",
       "      <td>42.78</td>\n",
       "      <td>10</td>\n",
       "      <td>313.566667</td>\n",
       "      <td>...</td>\n",
       "      <td>0</td>\n",
       "      <td>0</td>\n",
       "      <td>0</td>\n",
       "      <td>0</td>\n",
       "      <td>0</td>\n",
       "      <td>0</td>\n",
       "      <td>0</td>\n",
       "      <td>0</td>\n",
       "      <td>0</td>\n",
       "      <td>0</td>\n",
       "    </tr>\n",
       "    <tr>\n",
       "      <th>3</th>\n",
       "      <td>6000</td>\n",
       "      <td>36</td>\n",
       "      <td>0.0799</td>\n",
       "      <td>188.00</td>\n",
       "      <td>0.0</td>\n",
       "      <td>38683.61</td>\n",
       "      <td>2</td>\n",
       "      <td>10.40</td>\n",
       "      <td>1</td>\n",
       "      <td>205.966667</td>\n",
       "      <td>...</td>\n",
       "      <td>0</td>\n",
       "      <td>0</td>\n",
       "      <td>0</td>\n",
       "      <td>0</td>\n",
       "      <td>0</td>\n",
       "      <td>0</td>\n",
       "      <td>0</td>\n",
       "      <td>0</td>\n",
       "      <td>0</td>\n",
       "      <td>0</td>\n",
       "    </tr>\n",
       "    <tr>\n",
       "      <th>4</th>\n",
       "      <td>10000</td>\n",
       "      <td>36</td>\n",
       "      <td>0.0749</td>\n",
       "      <td>311.02</td>\n",
       "      <td>0.0</td>\n",
       "      <td>60000.00</td>\n",
       "      <td>2</td>\n",
       "      <td>48.08</td>\n",
       "      <td>0</td>\n",
       "      <td>235.400000</td>\n",
       "      <td>...</td>\n",
       "      <td>0</td>\n",
       "      <td>0</td>\n",
       "      <td>0</td>\n",
       "      <td>0</td>\n",
       "      <td>0</td>\n",
       "      <td>0</td>\n",
       "      <td>0</td>\n",
       "      <td>0</td>\n",
       "      <td>0</td>\n",
       "      <td>0</td>\n",
       "    </tr>\n",
       "  </tbody>\n",
       "</table>\n",
       "<p>5 rows × 119 columns</p>\n",
       "</div>"
      ],
      "text/plain": [
       "   funded_amnt  term  int_rate  installment  emp_length  annual_inc  \\\n",
       "0        35000    60    0.2549      1037.38        10.0    59000.00   \n",
       "1        40000    36    0.0724      1239.48         0.0    20000.00   \n",
       "2        25000    60    0.2869       788.84         0.0    77000.00   \n",
       "3         6000    36    0.0799       188.00         0.0    38683.61   \n",
       "4        10000    36    0.0749       311.02         0.0    60000.00   \n",
       "\n",
       "   loan_status     dti  delinq_2yrs  earliest_cr_line  ...  addr_state_SD  \\\n",
       "0            1   25.28            1         66.000000  ...              0   \n",
       "1            1  114.65            0        341.933333  ...              0   \n",
       "2           -3   42.78           10        313.566667  ...              0   \n",
       "3            2   10.40            1        205.966667  ...              0   \n",
       "4            2   48.08            0        235.400000  ...              0   \n",
       "\n",
       "   addr_state_TN  addr_state_TX  addr_state_UT  addr_state_VA  addr_state_VT  \\\n",
       "0              0              0              0              0              0   \n",
       "1              0              0              0              0              0   \n",
       "2              0              0              0              0              0   \n",
       "3              0              0              0              0              0   \n",
       "4              0              0              0              0              0   \n",
       "\n",
       "   addr_state_WA  addr_state_WI  addr_state_WV  addr_state_WY  \n",
       "0              0              0              0              0  \n",
       "1              0              0              0              0  \n",
       "2              0              0              0              0  \n",
       "3              0              0              0              0  \n",
       "4              0              0              0              0  \n",
       "\n",
       "[5 rows x 119 columns]"
      ]
     },
     "execution_count": 88,
     "metadata": {},
     "output_type": "execute_result"
    }
   ],
   "source": [
    "import xgboost as xgb\n",
    "import pandas as pd\n",
    "from sklearn.model_selection import train_test_split\n",
    "from sklearn.metrics import confusion_matrix\n",
    "from sklearn.ensemble import RandomForestClassifier\n",
    "from sklearn.metrics import precision_score, recall_score, accuracy_score, f1_score\n",
    "\n",
    "import matplotlib.pyplot as plt\n",
    "import seaborn as sns\n",
    "import os\n",
    "\n",
    "import numpy as np\n",
    "from sklearn.preprocessing import StandardScaler\n",
    "from sklearn.decomposition import PCA\n",
    "from joblib import dump, load\n",
    "\n",
    "\n",
    "import torch\n",
    "import torch.nn as nn\n",
    "from torch.nn.utils import clip_grad_norm_\n",
    "import torch.nn.functional as F\n",
    "from torch.utils.data import TensorDataset, DataLoader\n",
    "from time import time\n",
    "\n",
    "\n",
    "# INPUT_DATA = \"./data/normalized.csv\"\n",
    "INPUT_DATA = \"./data/normalized_with_dummies_no_na.csv\"\n",
    "\n",
    "TARGET = \"loan_status\"\n",
    "\n",
    "df_orig = pd.read_csv(INPUT_DATA)\n",
    "\n",
    "\n",
    "object_columns = df_orig.select_dtypes(include=['O']).columns\n",
    "for col in object_columns:\n",
    "    df_orig[col] = df_orig[col].astype('category')\n",
    "\n",
    "df_orig.head()"
   ]
  },
  {
   "cell_type": "code",
   "execution_count": 89,
   "metadata": {},
   "outputs": [],
   "source": [
    "class PCAWrapper:\n",
    "    # A wrapper for PCA that includes a StandardScaler and a plot function\n",
    "    def __init__(self, n_components, X=None, quiet=True):\n",
    "        self.n_components = n_components\n",
    "        self.standardscaler = StandardScaler()\n",
    "        self.pca = PCA(n_components=n_components)\n",
    "        if X is not None:\n",
    "            self.fit(X)\n",
    "            if not quiet:\n",
    "                self.plot()\n",
    "    \n",
    "    def fit(self, X):\n",
    "        X = self.standardscaler.fit_transform(X)\n",
    "        self.pca.fit(X)\n",
    "    \n",
    "    def transform(self, X):\n",
    "        X = self.standardscaler.transform(X)\n",
    "        return self.pca.transform(X)\n",
    "    \n",
    "    def fit_transform(self, X):\n",
    "        X = self.standardscaler.fit_transform(X)\n",
    "        return self.pca.fit_transform(X)\n",
    "    \n",
    "    def inverse_transform(self, X):\n",
    "        return self.standardscaler.inverse_transform(self.pca.inverse_transform(X))\n",
    "    \n",
    "    def explained_variance_ratio(self):\n",
    "        return self.pca.explained_variance_ratio_\n",
    "    \n",
    "    def components(self):\n",
    "        return self.pca.components_\n",
    "    \n",
    "    def plot(self):\n",
    "        # Optional: Plot the cumulative explained variance to choose n_components\n",
    "        plt.figure(figsize=(8, 5))\n",
    "        plt.plot(np.cumsum(self.pca.explained_variance_ratio_))\n",
    "        plt.xlabel('Number of Components')\n",
    "        plt.ylabel('Cumulative Explained Variance')\n",
    "        plt.title('Explained Variance by Number of Components')\n",
    "        plt.grid(True)\n",
    "        plt.show()\n",
    "    \n",
    "    def info(self):\n",
    "        print(\"Explained variance by component:\")\n",
    "        print(self.pca.explained_variance_ratio_)\n",
    "\n",
    "        # Print the cumulative explained variance\n",
    "        print(\"Cumulative explained variance:\")\n",
    "        print(self.pca.explained_variance_ratio_.cumsum())\n",
    "        \n",
    "    def save(self, file_path, scalar_file_path=None):\n",
    "        os.makedirs(os.path.dirname(file_path), exist_ok=True)\n",
    "        \n",
    "        if scalar_file_path is None:\n",
    "            scalar_file_path = file_path.split(\".\")[0] + \"_scalar.joblib\"\n",
    "        dump(self.standardscaler, scalar_file_path)\n",
    "        dump(self.pca, file_path)\n",
    "\n",
    "    def load(self, file_path, scalar_file_path=None):\n",
    "        if scalar_file_path is None:\n",
    "            scalar_file_path = file_path.split(\".\")[0] + \"_scalar.joblib\"\n",
    "        self.standardscaler = load(scalar_file_path)\n",
    "        self.pca = load(file_path)\n",
    "        \n",
    "\n",
    "\n",
    "class Dataset:\n",
    "    # Allows for quickly and easily resetting the dataset in a desired manner\n",
    "    def __init__(self, df, target_col, test_size=0.2, use_pca=False, pca_n_components=100):\n",
    "        self.df_orig = df.copy()\n",
    "        self.df = df\n",
    "        self.target_col = target_col\n",
    "        self.test_size = test_size\n",
    "        self.pca = None\n",
    "        self.use_pca = use_pca\n",
    "        self.pca_n_components = pca_n_components\n",
    "        self.reset_variables()\n",
    "        self.pca = None if not use_pca else PCAWrapper(n_components=pca_n_components, X=self.X, quiet=False)\n",
    "        \n",
    "    def set_df(self, df=None):\n",
    "        # Resets the dataframe to the original or a new one\n",
    "        if df is None:\n",
    "            df = self.df_orig.copy()\n",
    "        self.df = df\n",
    "        return self.reset_variables()\n",
    "    \n",
    "    def set_pca(self, use_pca, scalar_path=None, pca_n_components=100):\n",
    "        # Allows for setting the PCA object or loading it from a file\n",
    "        if isinstance(use_pca, PCAWrapper):\n",
    "            self.use_pca = True\n",
    "            self.pca = use_pca\n",
    "        elif isinstance(use_pca, str):\n",
    "            self.use_pca = True\n",
    "            self.pca = PCAWrapper(n_components=pca_n_components)\n",
    "            self.pca.load(use_pca, scalar_path)\n",
    "        elif isinstance(use_pca, bool):\n",
    "            self.use_pca = use_pca\n",
    "            self.pca_n_components = pca_n_components\n",
    "            self.pca = None if not use_pca else PCAWrapper(n_components=pca_n_components, X=self.X, quiet=False)\n",
    "        return self.reset_variables()\n",
    "        \n",
    "    def reset_variables(self):\n",
    "        # Recalculates the X, y, X_train, X_test, y_train, and y_test variables\n",
    "        self.X = self.df.drop(self.target_col, axis=1)\n",
    "        self.y = self.df[[self.target_col]]\n",
    "        self.X_train, self.X_test, self.y_train, self.y_test = train_test_split(self.X, self.y, test_size=self.test_size, random_state=42)\n",
    "        if self.pca is not None:\n",
    "            self.X_train = self.pca.fit_transform(self.X_train)\n",
    "            self.X_test = self.pca.transform(self.X_test)\n",
    "        return self\n",
    "    \n",
    "    def downsample(self, modifier=1):\n",
    "        # Downsamples the dataset to the size of the smallest class multiplied by the modifier\n",
    "        # NOTE: Run this after running map_target if you plan to change the target values\n",
    "        min_class_size = self.df[self.target_col].value_counts().min()\n",
    "        min_class_size = int(min_class_size * modifier)\n",
    "        print(f\"Min class size: {min_class_size}\")\n",
    "\n",
    "        new_df = self.df.groupby(self.target_col).apply(lambda x: x.sample(min_class_size, random_state=42) if len(x) > min_class_size else x).reset_index(drop=True)\n",
    "        self.df = new_df\n",
    "        return self.reset_variables()\n",
    "     \n",
    "    def map_target(self, target_map):\n",
    "        # Maps the target column to a new set of values. Drops any values that do not have a key present in target_map\n",
    "        keys_to_remove = [x for x in self.df[self.target_col].unique().tolist() if x not in target_map.keys()]\n",
    "        self.df = self.df[~self.df[self.target_col].isin(keys_to_remove)]\n",
    "        self.df[self.target_col] = self.df[self.target_col].map(target_map)\n",
    "        return self.reset_variables()\n",
    "\n",
    "    def get_train(self):\n",
    "        return self.X_train, self.y_train\n",
    "    \n",
    "    def get_test(self):\n",
    "        return self.X_test, self.y_test\n",
    "\n",
    "    \n",
    "\n",
    "\n",
    "class TreeModel:\n",
    "    # A class to allow for quickly training and testing a tree-based model (RandomForest or XGBoost)\n",
    "    def __init__(self, is_xgboost=False, enable_categorical=True, save_file_path=None, class_weight=None):\n",
    "        self.is_xgboost = is_xgboost\n",
    "        self.enable_categorical = enable_categorical\n",
    "        self.save_file_path = save_file_path\n",
    "        self.class_weight = class_weight\n",
    "        self.clf = None\n",
    "\n",
    "    def train(self, X_train, y_train):\n",
    "        # Trains the model on the given data\n",
    "        if self.is_xgboost:\n",
    "            self.clf = xgb.XGBClassifier(tree_method=\"hist\", enable_categorical=self.enable_categorical)\n",
    "            # self.clf = xgb.XGBRegressor(n_estimators=100, learning_rate=1, \n",
    "            #            objective='reg:squarederror', subsample=1, reg_lambda=0.1)\n",
    "        else:\n",
    "            max_y = y_train[TARGET].max()\n",
    "            \n",
    "            class_weight = {x: 1 for x in y_train[TARGET].unique().tolist()}\n",
    "            if self.class_weight is not None:\n",
    "                class_weight[max_y] = self.class_weight\n",
    "                ## Alt:\n",
    "                # for key in class_weight.keys():\n",
    "                #     if key != max_y:\n",
    "                #         class_weight[key] = self.class_weight\n",
    "            print(class_weight)\n",
    "            self.clf = RandomForestClassifier(n_estimators=100, random_state=42, class_weight=class_weight)\n",
    "\n",
    "        self.clf.fit(X_train, y_train)\n",
    "        if self.save_file_path:\n",
    "            self.clf.save_model(self.save_file_path)\n",
    "        return self.clf\n",
    "    \n",
    "    def predict(self, X_test):\n",
    "        # Predicts the target variable for the given data\n",
    "        y_pred = self.clf.predict(X_test)\n",
    "        return y_pred\n",
    "    \n",
    "    def test(self, X_test, y_test):\n",
    "        # Predicts the target variable for the given data and compares it to the actual values\n",
    "        # Prints out the accuracy, precision, recall, and F1 score and returns the confusion matrix\n",
    "        y_pred = self.predict(X_test)\n",
    "        \n",
    "        print(y_pred[:10])\n",
    "        y_pred = y_pred.round()\n",
    "        \n",
    "        print(y_pred.shape, y_test.shape)\n",
    "        \n",
    "        accuracy = accuracy_score(y_test, y_pred)\n",
    "        method = \"weighted\"\n",
    "        precision = precision_score(y_test, y_pred, average=method)\n",
    "        recall = recall_score(y_test, y_pred, average=method)\n",
    "        f1 = f1_score(y_test, y_pred, average=method)\n",
    "        \n",
    "        print(f\"Accuracy: {accuracy:.2f}\")\n",
    "        print(f\"Precision: {precision:.2f}\")\n",
    "        print(f\"Recall: {recall:.2f}\")\n",
    "        print(f\"F1: {f1:.2f}\")\n",
    "        \n",
    "        cm = confusion_matrix(y_test, y_pred)\n",
    "        labels = y_test[TARGET].unique().tolist()\n",
    "        cm_df = pd.DataFrame(cm, index=labels, columns=labels)\n",
    "        ordered_labels = sorted(labels)\n",
    "        cm_df = cm_df.reindex(index=ordered_labels, columns=ordered_labels) #, fill_value=0) \n",
    "        \n",
    "        # print(cm)\n",
    "\n",
    "        # return cm\n",
    "        print(cm_df)\n",
    "        return cm_df\n",
    "\n",
    "    def plot_confusion_matrix(self, cm, labels):\n",
    "        # Plots the confusion matrix\n",
    "        plt.figure(figsize=(10, 10))\n",
    "        sns.heatmap(cm, annot=True, fmt=\"d\", cmap=\"YlGnBu\", cbar=False) #, xticklabels=labels, yticklabels=labels)\n",
    "        plt.xlabel(\"Predicted\")\n",
    "        plt.ylabel(\"Actual\")\n",
    "        plt.show()\n",
    "    \n",
    "    def save(self, file_path):\n",
    "        if self.is_xgboost:\n",
    "            self.clf.save_model(file_path)\n",
    "        else:\n",
    "            dump(self.clf, file_path)\n",
    "        return self.clf\n",
    "        \n",
    "    def load(self, file_path):\n",
    "        if self.is_xgboost:\n",
    "            self.clf = xgb.XGBClassifier()\n",
    "            self.clf.load_model(file_path)\n",
    "        else:\n",
    "            self.clf = load(file_path)\n",
    "        return self.clf\n",
    "        \n",
    "        \n",
    "    \n"
   ]
  },
  {
   "cell_type": "code",
   "execution_count": 90,
   "metadata": {},
   "outputs": [],
   "source": [
    "# Initializing the dataset class\n",
    "data = Dataset(df_orig.copy(), TARGET)"
   ]
  },
  {
   "cell_type": "markdown",
   "metadata": {},
   "source": [
    "### Random Forest\n",
    "\n",
    "After a few quick tests, it became clear that some form of resampling was necessary to have a chance at a good model. I decided to downsample the majority classes. While not as ideal as making synthetic data, downsampling is a simple and effective way to balance the classes.\n"
   ]
  },
  {
   "cell_type": "code",
   "execution_count": 91,
   "metadata": {},
   "outputs": [
    {
     "name": "stdout",
     "output_type": "stream",
     "text": [
      "Min class size: 34\n",
      "{2: 1, 3: 1, 5: 1, 1: 1, 4: 1, 0: 1}\n",
      "[3 1 0 5 1 3 5 0 1 1]\n",
      "(39,) (39, 1)\n",
      "Accuracy: 0.21\n",
      "Precision: 0.26\n",
      "Recall: 0.21\n",
      "F1: 0.22\n",
      "   0  1  2  3  4  5\n",
      "0  3  0  0  2  2  3\n",
      "1  1  2  0  0  4  1\n",
      "2  1  2  0  0  1  1\n",
      "3  1  0  0  1  4  1\n",
      "4  0  2  0  2  0  1\n",
      "5  0  0  0  0  2  2\n"
     ]
    },
    {
     "name": "stderr",
     "output_type": "stream",
     "text": [
      "c:\\Users\\grant\\anaconda3\\envs\\xgboost_gpu\\lib\\site-packages\\sklearn\\base.py:1351: DataConversionWarning: A column-vector y was passed when a 1d array was expected. Please change the shape of y to (n_samples,), for example using ravel().\n",
      "  return fit_method(estimator, *args, **kwargs)\n",
      "c:\\Users\\grant\\anaconda3\\envs\\xgboost_gpu\\lib\\site-packages\\sklearn\\metrics\\_classification.py:1497: UndefinedMetricWarning: Precision is ill-defined and being set to 0.0 in labels with no predicted samples. Use `zero_division` parameter to control this behavior.\n",
      "  _warn_prf(average, modifier, f\"{metric.capitalize()} is\", len(result))\n"
     ]
    },
    {
     "data": {
      "image/png": "[encoded data removed]",
      "text/plain": [
       "<Figure size 1000x1000 with 1 Axes>"
      ]
     },
     "metadata": {},
     "output_type": "display_data"
    }
   ],
   "source": [
    "TARGET_MAP = {2 : 5, # Fully Paid\n",
    "                1 : 4, # Current\n",
    "                0 : 3, # In Grace Period\n",
    "                -1 : 2, # Late (16-30 days)\n",
    "                -2 : 1, # Late (31-120 days)\n",
    "                -3 : 0, # Charged Off\n",
    "                }\n",
    "\n",
    "data.set_df().map_target(TARGET_MAP).downsample(1.5)\n",
    "X_train, y_train = data.get_train()\n",
    "X_test, y_test = data.get_test()\n",
    "\n",
    "model = TreeModel(is_xgboost=False, enable_categorical=True, class_weight=None)\n",
    "model.train(X_train, y_train)\n",
    "cm = model.test(X_test, y_test)\n",
    "model.plot_confusion_matrix(cm, y_test[TARGET].unique())"
   ]
  },
  {
   "cell_type": "markdown",
   "metadata": {},
   "source": [
    "I frist decided to try building a model that worked with the original classes. I expected the results to be less than favorable, especially given that there were 5 classes, but wanted to see how it would perform.  Results were so low that I concidered not even including it, "
   ]
  },
  {
   "cell_type": "code",
   "execution_count": 113,
   "metadata": {},
   "outputs": [
    {
     "name": "stdout",
     "output_type": "stream",
     "text": [
      "Min class size: 287\n",
      "{0: 1, 1: 1}\n",
      "[1 0 0 1 1 0 0 1 1 1]\n",
      "(115,) (115, 1)\n",
      "Accuracy: 0.59\n",
      "Precision: 0.59\n",
      "Recall: 0.59\n",
      "F1: 0.59\n",
      "    0   1\n",
      "0  29  22\n",
      "1  25  39\n"
     ]
    },
    {
     "name": "stderr",
     "output_type": "stream",
     "text": [
      "c:\\Users\\grant\\anaconda3\\envs\\xgboost_gpu\\lib\\site-packages\\sklearn\\base.py:1351: DataConversionWarning: A column-vector y was passed when a 1d array was expected. Please change the shape of y to (n_samples,), for example using ravel().\n",
      "  return fit_method(estimator, *args, **kwargs)\n"
     ]
    },
    {
     "data": {
      "image/png": "[encoded data removed]",
      "text/plain": [
       "<Figure size 1000x1000 with 1 Axes>"
      ]
     },
     "metadata": {},
     "output_type": "display_data"
    }
   ],
   "source": [
    "TARGET_MAP = {2 : 1, # Fully Paid\n",
    "                1 : 1, # Current\n",
    "                0 : 0, # In Grace Period\n",
    "                -1 : 0, # Late (16-30 days)\n",
    "                -2 : 0, # Late (31-120 days)\n",
    "                -3 : 0, # Charged Off\n",
    "                }\n",
    "\n",
    "data.set_df().map_target(TARGET_MAP).downsample(1)\n",
    "X_train, y_train = data.get_train()\n",
    "X_test, y_test = data.get_test()\n",
    "\n",
    "model = TreeModel(is_xgboost=False, enable_categorical=True, class_weight=None)\n",
    "model.train(X_train, y_train)\n",
    "cm = model.test(X_test, y_test)\n",
    "model.plot_confusion_matrix(cm, y_test[TARGET].unique())\n",
    "\n"
   ]
  },
  {
   "cell_type": "markdown",
   "metadata": {},
   "source": [
    "I then decided to focus on binary classification since results generally are better than trying to work with more classes. I started by grouping \"Current\" with \"Fully Paid\" in one class and everything else in another.  I also ran a similar test where the classes were \"Fully Paid\" or not. I only showed the results of the later since they were similar. The downsampling helped alot in allowing for predictions of the \"Fully Paid\" class.  Since our goal is to know which loans to invest in, we really want to maximize our positive precision (lower the false positives). I decided to add a strong class weight to the \"Fully Paid\" class to help with this:"
   ]
  },
  {
   "cell_type": "code",
   "execution_count": 119,
   "metadata": {},
   "outputs": [
    {
     "name": "stdout",
     "output_type": "stream",
     "text": [
      "{0: 1, 1: 1.5}\n",
      "[1 0 0 0 1 0 0 1 1 1]\n",
      "(115,) (115, 1)\n",
      "Accuracy: 0.68\n",
      "Precision: 0.68\n",
      "Recall: 0.68\n",
      "F1: 0.68\n",
      "    0   1\n",
      "0  34  17\n",
      "1  20  44\n"
     ]
    },
    {
     "name": "stderr",
     "output_type": "stream",
     "text": [
      "c:\\Users\\grant\\anaconda3\\envs\\xgboost_gpu\\lib\\site-packages\\sklearn\\base.py:1351: DataConversionWarning: A column-vector y was passed when a 1d array was expected. Please change the shape of y to (n_samples,), for example using ravel().\n",
      "  return fit_method(estimator, *args, **kwargs)\n"
     ]
    },
    {
     "data": {
      "image/png": "[encoded data removed]",
      "text/plain": [
       "<Figure size 1000x1000 with 1 Axes>"
      ]
     },
     "metadata": {},
     "output_type": "display_data"
    }
   ],
   "source": [
    "model = TreeModel(is_xgboost=False, enable_categorical=True, class_weight=1.5)\n",
    "model.train(X_train, y_train)\n",
    "cm = model.test(X_test, y_test)\n",
    "model.plot_confusion_matrix(cm, y_test[TARGET].unique())"
   ]
  },
  {
   "cell_type": "markdown",
   "metadata": {},
   "source": [
    "While the results are not extremely favorable overall, the precision for the positive class is quite a bit higher, which means the likelihoof of a positive outcome (a person fully paying off their loan) is higher.  In the above results, we would expect at least 72% of loan investments we make, based on a positive classification, would result in a fully paid off loan.  However, the actual amount would likely be higher due to the large number of people who are current on their payments.  Assuming good returns, this should result in positive gains to the invester."
   ]
  },
  {
   "cell_type": "markdown",
   "metadata": {},
   "source": [
    "# XGBoost\n",
    "\n",
    "I initially ran XGBoost with all classes, though I have not included this since results were not benefitial. I then reran other tests I had done with Random Forest."
   ]
  },
  {
   "cell_type": "code",
   "execution_count": 65,
   "metadata": {},
   "outputs": [
    {
     "name": "stdout",
     "output_type": "stream",
     "text": [
      "Min class size: 445\n",
      "[1 1 0 0 1 0 0 1 1 0]\n",
      "(178,) (178, 1)\n",
      "Accuracy: 0.53\n",
      "Precision: 0.53\n",
      "Recall: 0.53\n",
      "F1: 0.53\n",
      "    0   1\n",
      "0  52  39\n",
      "1  44  43\n"
     ]
    },
    {
     "data": {
      "image/png": "[encoded data removed]",
      "text/plain": [
       "<Figure size 1000x1000 with 1 Axes>"
      ]
     },
     "metadata": {},
     "output_type": "display_data"
    }
   ],
   "source": [
    "TARGET_MAP = {2 : 1, # Fully Paid\n",
    "                1 : 0, # Current\n",
    "                0 : 0, # In Grace Period\n",
    "                -1 : 0, # Late (16-30 days)\n",
    "                -2 : 0, # Late (31-120 days)\n",
    "                -3 : 0, # Charged Off\n",
    "                }\n",
    "\n",
    "data.set_df().map_target(TARGET_MAP).downsample(1)\n",
    "X_train, y_train = data.get_train()\n",
    "X_test, y_test = data.get_test()\n",
    "\n",
    "model = TreeModel(is_xgboost=True, enable_categorical=True, class_weight=None)\n",
    "model.train(X_train, y_train)\n",
    "cm = model.test(X_test, y_test)\n",
    "model.plot_confusion_matrix(cm, y_test[TARGET].unique())"
   ]
  },
  {
   "cell_type": "markdown",
   "metadata": {},
   "source": [
    "Results from running plain XGBoost on binary classification were mixed.  I next tried removing the \"Current\" values from the training set while setting them to the negative class for testing. Theoretically, people that are current could still default on their loans.  Since there is a level of uncertainty with them and they made up the majority class, I wanted to experiment with not training on them since that could skew the results one way or another.  I also didn't want to remove the data fully from the test set as well since this is a lot of data, and since it is important to understand how the model will be effected by these values as well."
   ]
  },
  {
   "cell_type": "code",
   "execution_count": 66,
   "metadata": {},
   "outputs": [
    {
     "name": "stdout",
     "output_type": "stream",
     "text": [
      "Min class size: 287\n",
      "[1 1 1 1 1 1 1 1 0 0]\n",
      "(173,) (173, 1)\n",
      "Accuracy: 0.50\n",
      "Precision: 0.59\n",
      "Recall: 0.50\n",
      "F1: 0.50\n",
      "    0   1\n",
      "0  40  19\n",
      "1  68  46\n"
     ]
    },
    {
     "data": {
      "image/png": "[encoded data removed]",
      "text/plain": [
       "<Figure size 1000x1000 with 1 Axes>"
      ]
     },
     "metadata": {},
     "output_type": "display_data"
    }
   ],
   "source": [
    "TARGET_MAP = {2 : 1, # Fully Paid\n",
    "                1 : -1, # Current\n",
    "                0 : 0, # In Grace Period\n",
    "                -1 : 0, # Late (16-30 days)\n",
    "                -2 : 0, # Late (31-120 days)\n",
    "                -3 : 0, # Charged Off\n",
    "                }\n",
    "\n",
    "data.set_df().map_target(TARGET_MAP).downsample()\n",
    "X_train, y_train = data.get_train()\n",
    "X_train = X_train[y_train[TARGET] != -1]\n",
    "y_train = y_train[y_train[TARGET] != -1]\n",
    "X_test, y_test = data.get_test()\n",
    "y_test[TARGET] = y_test[TARGET].map({-1: 0, 1: 1, 0: 0})\n",
    "\n",
    "model = TreeModel(is_xgboost=True, enable_categorical=True, class_weight=None)\n",
    "model.train(X_train, y_train)\n",
    "cm = model.test(X_test, y_test)\n",
    "model.plot_confusion_matrix(cm, y_test[TARGET].unique())"
   ]
  },
  {
   "cell_type": "markdown",
   "metadata": {},
   "source": [
    "Not training on the current class resulted in a decent precision for the positive class.  However, it did not perform better than the final random forest model."
   ]
  },
  {
   "cell_type": "markdown",
   "metadata": {},
   "source": [
    "# PCA Exploration\n",
    "\n",
    "I also explored incorporating PCA into the models.  However, my results were not as favorable as I had hoped.  I decided to only include my initial steps to demonstrate how I reduced the dimensions along with only one test to show the approach worked. In actuality, I tested a few variations with both XGBoost and Random Forest."
   ]
  },
  {
   "cell_type": "code",
   "execution_count": 67,
   "metadata": {},
   "outputs": [
    {
     "data": {
      "image/png": "[encoded data removed]",
      "text/plain": [
       "<Figure size 800x500 with 1 Axes>"
      ]
     },
     "metadata": {},
     "output_type": "display_data"
    },
    {
     "data": {
      "text/plain": [
       "<__main__.Dataset at 0x19005a5fb80>"
      ]
     },
     "execution_count": 67,
     "metadata": {},
     "output_type": "execute_result"
    }
   ],
   "source": [
    "data.set_df().set_pca(True, pca_n_components=0.99999)\n",
    "# data.pca.plot()\n",
    "\n",
    "\n"
   ]
  },
  {
   "cell_type": "markdown",
   "metadata": {},
   "source": [
    "Based on the graph, a cut-off between 0.9 and 0.95 seemed to allow for the most variance to be captured while reducing the number of dimensions.  I decided to use 0.95 as the cut-off for the PCA. "
   ]
  },
  {
   "cell_type": "code",
   "execution_count": 68,
   "metadata": {},
   "outputs": [
    {
     "data": {
      "image/png": "[encoded data removed]",
      "text/plain": [
       "<Figure size 800x500 with 1 Axes>"
      ]
     },
     "metadata": {},
     "output_type": "display_data"
    },
    {
     "name": "stdout",
     "output_type": "stream",
     "text": [
      "Min class size: 445\n"
     ]
    },
    {
     "data": {
      "text/plain": [
       "<__main__.Dataset at 0x19005a5fb80>"
      ]
     },
     "execution_count": 68,
     "metadata": {},
     "output_type": "execute_result"
    }
   ],
   "source": [
    "TARGET_MAP = {2 : 1, # Fully Paid\n",
    "                1 : 0, # Current\n",
    "                0 : 0, # In Grace Period\n",
    "                -1 : 0, # Late (16-30 days)\n",
    "                -2 : 0, # Late (31-120 days)\n",
    "                -3 : 0, # Charged Off\n",
    "                }\n",
    "\n",
    "data.set_df().set_pca(True, pca_n_components=0.95).map_target(TARGET_MAP).downsample(1)"
   ]
  },
  {
   "cell_type": "code",
   "execution_count": 69,
   "metadata": {},
   "outputs": [
    {
     "name": "stdout",
     "output_type": "stream",
     "text": [
      "{1: 2, 0: 1}\n"
     ]
    },
    {
     "name": "stderr",
     "output_type": "stream",
     "text": [
      "c:\\Users\\grant\\anaconda3\\envs\\xgboost_gpu\\lib\\site-packages\\sklearn\\base.py:1351: DataConversionWarning: A column-vector y was passed when a 1d array was expected. Please change the shape of y to (n_samples,), for example using ravel().\n",
      "  return fit_method(estimator, *args, **kwargs)\n"
     ]
    },
    {
     "name": "stdout",
     "output_type": "stream",
     "text": [
      "[0 1 1 0 0 1 0 1 1 1]\n",
      "(178,) (178, 1)\n",
      "Accuracy: 0.54\n",
      "Precision: 0.54\n",
      "Recall: 0.54\n",
      "F1: 0.54\n",
      "    0   1\n",
      "0  53  38\n",
      "1  44  43\n"
     ]
    },
    {
     "data": {
      "image/png": "[encoded data removed]",
      "text/plain": [
       "<Figure size 1000x1000 with 1 Axes>"
      ]
     },
     "metadata": {},
     "output_type": "display_data"
    }
   ],
   "source": [
    "X_train, y_train = data.get_train()\n",
    "X_test, y_test = data.get_test()\n",
    "\n",
    "model = TreeModel(is_xgboost=False, enable_categorical=True, class_weight=2)\n",
    "model.train(X_train, y_train)\n",
    "cm = model.test(X_test, y_test)\n",
    "model.plot_confusion_matrix(cm, y_test[TARGET].unique())"
   ]
  },
  {
   "cell_type": "markdown",
   "metadata": {},
   "source": [
    "# Deep Neural Network"
   ]
  },
  {
   "cell_type": "code",
   "execution_count": 70,
   "metadata": {},
   "outputs": [],
   "source": [
    "def downsample(df, target_col, modifier=1):\n",
    "    min_class_size = df[target_col].value_counts().min()\n",
    "    min_class_size = int(min_class_size * modifier)\n",
    "\n",
    "    df = df.groupby(target_col).apply(lambda x: x.sample(min_class_size) if len(x) > min_class_size else x).reset_index(drop=True)\n",
    "    return df\n",
    "\n",
    "def train_test(df, target_col, test_size=0.2):\n",
    "    X = df.drop(target_col, axis=1)\n",
    "    y = df[[target_col]]\n",
    "\n",
    "    X_train, X_test, y_train, y_test = train_test_split(X, y, test_size=test_size, random_state=42)\n",
    "\n",
    "    \n",
    "    return X_train, X_test, y_train, y_test\n",
    "\n",
    "def build_dataloaders(df, target_col, test_size=0.2, batch_size=32):\n",
    "    X_train, X_test, y_train, y_test = train_test(df, target_col, test_size)\n",
    "    \n",
    "    X_train_tensor = torch.tensor(X_train.values, dtype=torch.float32)\n",
    "    y_train_tensor = torch.tensor(y_train.squeeze().values, dtype=torch.long)\n",
    "    X_test_tensor = torch.tensor(X_test.values, dtype=torch.float32)\n",
    "    y_test_tensor = torch.tensor(y_test.squeeze().values, dtype=torch.long)\n",
    "    \n",
    "    \n",
    "\n",
    "    # train_data = TensorDataset(torch.from_numpy(X_train.values).float(), torch.from_numpy(y_train.squeeze().values).float())\n",
    "    # test_data = TensorDataset(torch.from_numpy(X_test.values).float(), torch.from_numpy(y_test.squeeze().values).float())\n",
    "    train_dataset = TensorDataset(X_train_tensor, y_train_tensor)\n",
    "    test_dataset = TensorDataset(X_test_tensor, y_test_tensor)\n",
    "\n",
    "    \n",
    "    train_loader = DataLoader(train_dataset, batch_size=batch_size, shuffle=True)\n",
    "    test_loader = DataLoader(test_dataset, batch_size=batch_size, shuffle=False)\n",
    "\n",
    "    return train_loader, test_loader"
   ]
  },
  {
   "cell_type": "code",
   "execution_count": 71,
   "metadata": {},
   "outputs": [],
   "source": [
    "class SimpleDNN(nn.Module):\n",
    "    def __init__(self, input_size, hidden_layers, output_size):\n",
    "        # Takes in an input_size, a list of hidden_layers, and an output_size\n",
    "        super(SimpleDNN, self).__init__()\n",
    "        # Define the network layers dynamically\n",
    "        layers = [nn.Linear(input_size, hidden_layers[0])]\n",
    "        layers += [nn.Linear(hidden_layers[i], hidden_layers[i+1]) for i in range(len(hidden_layers)-1)]\n",
    "        layers.append(nn.Linear(hidden_layers[-1], output_size))\n",
    "\n",
    "        self.layers = nn.ModuleList(layers)\n",
    "\n",
    "    def forward(self, x):\n",
    "        # Apply all but the last layer with ReLU activation\n",
    "        for i in range(len(self.layers) - 1):\n",
    "            x = F.relu(self.layers[i](x))\n",
    "        x = self.layers[-1](x)\n",
    "        return x"
   ]
  },
  {
   "cell_type": "code",
   "execution_count": 72,
   "metadata": {},
   "outputs": [
    {
     "name": "stdout",
     "output_type": "stream",
     "text": [
      "Using cuda device\n"
     ]
    }
   ],
   "source": [
    "# Setup\n",
    "INPUT_DATA = './data/normalized_with_dummies_no_na.csv'\n",
    "DEVICE = torch.device('cuda' if torch.cuda.is_available() else 'cpu')\n",
    "print(f'Using {DEVICE} device')\n",
    "LR = 0.00001\n",
    "NUM_EPOCHS = 50\n",
    "\n",
    "SAVE_FREQ = 50"
   ]
  },
  {
   "cell_type": "code",
   "execution_count": 73,
   "metadata": {},
   "outputs": [],
   "source": [
    "# Prepare the data\n",
    "df_orig = pd.read_csv(INPUT_DATA)\n",
    "\n",
    "df = df_orig.copy()\n",
    "\n",
    "TARGET_DICT = {2 : True, # Fully Paid\n",
    "                1 : False, # Current\n",
    "                0 : False, # In Grace Period\n",
    "                -1 : False, # Late (16-30 days)\n",
    "                -2 : False, # Late (31-120 days)\n",
    "                -3 : False, # Charged Off\n",
    "                }\n",
    "\n",
    "df[TARGET] = df[TARGET].map(TARGET_DICT)\n",
    "\n",
    "df = downsample(df, TARGET, modifier=1.5)\n",
    "\n",
    "train_loader, test_loader = build_dataloaders(df, TARGET, test_size=0.2, batch_size=32)"
   ]
  },
  {
   "cell_type": "code",
   "execution_count": 74,
   "metadata": {},
   "outputs": [
    {
     "name": "stdout",
     "output_type": "stream",
     "text": [
      "118 2\n",
      "SimpleDNN(\n",
      "  (layers): ModuleList(\n",
      "    (0): Linear(in_features=118, out_features=128, bias=True)\n",
      "    (1): Linear(in_features=128, out_features=256, bias=True)\n",
      "    (2): Linear(in_features=256, out_features=16, bias=True)\n",
      "    (3): Linear(in_features=16, out_features=2, bias=True)\n",
      "  )\n",
      ")\n"
     ]
    }
   ],
   "source": [
    "# Prepare the model\n",
    "\n",
    "input_size = len(df.columns) - 1 \n",
    "hidden_layers = [128, 256,  16] #64, 32,\n",
    "output_size = len(df[TARGET].unique())\n",
    "\n",
    "print(input_size, output_size)\n",
    "model = SimpleDNN(input_size, hidden_layers, output_size)\n",
    "print(model)\n",
    "model.to(DEVICE)\n",
    "\n",
    "optimizer = torch.optim.Adam(model.parameters(), lr=LR)\n",
    "criterion = nn.CrossEntropyLoss() # Cross entropy loss used since we are working with classification\n",
    "\n",
    "# Having a scheduler and gradient clipping is a bit overkill for this simple problem, but it's good to be thorough\n",
    "max_grad_norm = 1 \n",
    "scheduler = torch.optim.lr_scheduler.StepLR(optimizer, step_size=1000, gamma=0.1)"
   ]
  },
  {
   "cell_type": "code",
   "execution_count": 75,
   "metadata": {},
   "outputs": [
    {
     "name": "stdout",
     "output_type": "stream",
     "text": [
      "Epoch 1/50, Training Loss: 135.86912291390556, Time: 0.13051486015319824, lr: 1e-05\n",
      "Epoch 1/50, Test Accuracy: 54.7085201793722%, Time: 0.00620722770690918\n",
      "Epoch 2/50, Training Loss: 86.95440305982318, Time: 0.13657855987548828, lr: 1e-05\n",
      "Epoch 2/50, Test Accuracy: 58.74439461883408%, Time: 0.007344961166381836\n",
      "Epoch 3/50, Training Loss: 66.68104812077114, Time: 0.10828161239624023, lr: 1e-05\n",
      "Epoch 3/50, Test Accuracy: 58.29596412556054%, Time: 0.0062525272369384766\n",
      "Epoch 4/50, Training Loss: 52.11725630078997, Time: 0.104736328125, lr: 1e-05\n",
      "Epoch 4/50, Test Accuracy: 55.15695067264574%, Time: 0.0068950653076171875\n",
      "Epoch 5/50, Training Loss: 42.19805635724749, Time: 0.11547493934631348, lr: 1e-05\n",
      "Epoch 5/50, Test Accuracy: 60.98654708520179%, Time: 0.007999420166015625\n",
      "Epoch 6/50, Training Loss: 36.38560741288321, Time: 0.10570836067199707, lr: 1e-05\n",
      "Epoch 6/50, Test Accuracy: 62.780269058295964%, Time: 0.006006002426147461\n",
      "Epoch 7/50, Training Loss: 31.614839247294835, Time: 0.0950160026550293, lr: 1e-05\n",
      "Epoch 7/50, Test Accuracy: 60.08968609865471%, Time: 0.006876230239868164\n",
      "Epoch 8/50, Training Loss: 27.901076078414917, Time: 0.09372401237487793, lr: 1e-05\n",
      "Epoch 8/50, Test Accuracy: 60.98654708520179%, Time: 0.005629777908325195\n",
      "Epoch 9/50, Training Loss: 24.762617553983414, Time: 0.11650538444519043, lr: 1e-05\n",
      "Epoch 9/50, Test Accuracy: 59.19282511210762%, Time: 0.006006717681884766\n",
      "Epoch 10/50, Training Loss: 21.54666771207537, Time: 0.11560821533203125, lr: 1e-05\n",
      "Epoch 10/50, Test Accuracy: 60.98654708520179%, Time: 0.005335092544555664\n",
      "Epoch 11/50, Training Loss: 19.18647313117981, Time: 0.10658144950866699, lr: 1e-05\n",
      "Epoch 11/50, Test Accuracy: 57.399103139013455%, Time: 0.0059986114501953125\n",
      "Epoch 12/50, Training Loss: 17.873740366527013, Time: 0.10704326629638672, lr: 1e-05\n",
      "Epoch 12/50, Test Accuracy: 61.88340807174888%, Time: 0.00601649284362793\n",
      "Epoch 13/50, Training Loss: 15.864833644458226, Time: 0.09609675407409668, lr: 1e-05\n",
      "Epoch 13/50, Test Accuracy: 61.43497757847533%, Time: 0.004927396774291992\n",
      "Epoch 14/50, Training Loss: 14.75194069317409, Time: 0.10367870330810547, lr: 1e-05\n",
      "Epoch 14/50, Test Accuracy: 56.502242152466366%, Time: 0.0070035457611083984\n",
      "Epoch 15/50, Training Loss: 13.926630701337542, Time: 0.10707449913024902, lr: 1e-05\n",
      "Epoch 15/50, Test Accuracy: 57.847533632286996%, Time: 0.0048906803131103516\n",
      "Epoch 16/50, Training Loss: 12.999169434819903, Time: 0.10303497314453125, lr: 1e-05\n",
      "Epoch 16/50, Test Accuracy: 60.53811659192825%, Time: 0.004996776580810547\n",
      "Epoch 17/50, Training Loss: 12.10596433707646, Time: 0.1066899299621582, lr: 1e-05\n",
      "Epoch 17/50, Test Accuracy: 57.847533632286996%, Time: 0.005894660949707031\n",
      "Epoch 18/50, Training Loss: 11.580575738634382, Time: 0.10909509658813477, lr: 1e-05\n",
      "Epoch 18/50, Test Accuracy: 56.95067264573991%, Time: 0.00617218017578125\n",
      "Epoch 19/50, Training Loss: 11.605359366961888, Time: 0.09974002838134766, lr: 1e-05\n",
      "Epoch 19/50, Test Accuracy: 58.29596412556054%, Time: 0.006498813629150391\n",
      "Epoch 20/50, Training Loss: 10.771511767591749, Time: 0.10063791275024414, lr: 1e-05\n",
      "Epoch 20/50, Test Accuracy: 58.29596412556054%, Time: 0.005014181137084961\n",
      "Epoch 21/50, Training Loss: 10.058433864797864, Time: 0.10561800003051758, lr: 1e-05\n",
      "Epoch 21/50, Test Accuracy: 59.19282511210762%, Time: 0.006083488464355469\n",
      "Epoch 22/50, Training Loss: 9.753603390284947, Time: 0.09793639183044434, lr: 1e-05\n",
      "Epoch 22/50, Test Accuracy: 58.29596412556054%, Time: 0.005980730056762695\n",
      "Epoch 23/50, Training Loss: 9.522783126149859, Time: 0.09800386428833008, lr: 1e-05\n",
      "Epoch 23/50, Test Accuracy: 57.847533632286996%, Time: 0.006002902984619141\n",
      "Epoch 24/50, Training Loss: 9.053663645471845, Time: 0.09555745124816895, lr: 1e-05\n",
      "Epoch 24/50, Test Accuracy: 58.29596412556054%, Time: 0.0063610076904296875\n",
      "Epoch 25/50, Training Loss: 8.739954420498439, Time: 0.09799551963806152, lr: 1e-05\n",
      "Epoch 25/50, Test Accuracy: 56.502242152466366%, Time: 0.006762504577636719\n",
      "Epoch 26/50, Training Loss: 8.414456256798335, Time: 0.09852719306945801, lr: 1e-05\n",
      "Epoch 26/50, Test Accuracy: 58.74439461883408%, Time: 0.005114555358886719\n",
      "Epoch 27/50, Training Loss: 8.253059250967842, Time: 0.09525084495544434, lr: 1e-05\n",
      "Epoch 27/50, Test Accuracy: 57.399103139013455%, Time: 0.004950523376464844\n",
      "Epoch 28/50, Training Loss: 7.862435391971043, Time: 0.0969996452331543, lr: 1e-05\n",
      "Epoch 28/50, Test Accuracy: 60.08968609865471%, Time: 0.005002737045288086\n",
      "Epoch 29/50, Training Loss: 7.726280331611633, Time: 0.09185957908630371, lr: 1e-05\n",
      "Epoch 29/50, Test Accuracy: 56.053811659192824%, Time: 0.005118370056152344\n",
      "Epoch 30/50, Training Loss: 7.55878164087023, Time: 0.09589815139770508, lr: 1e-05\n",
      "Epoch 30/50, Test Accuracy: 61.43497757847533%, Time: 0.005142688751220703\n",
      "Epoch 31/50, Training Loss: 7.845437594822475, Time: 0.10160017013549805, lr: 1e-05\n",
      "Epoch 31/50, Test Accuracy: 56.95067264573991%, Time: 0.006999969482421875\n",
      "Epoch 32/50, Training Loss: 7.569114633968899, Time: 0.10123801231384277, lr: 1e-05\n",
      "Epoch 32/50, Test Accuracy: 54.26008968609865%, Time: 0.005902528762817383\n",
      "Epoch 33/50, Training Loss: 7.176699110439846, Time: 0.09590792655944824, lr: 1e-05\n",
      "Epoch 33/50, Test Accuracy: 59.19282511210762%, Time: 0.0050165653228759766\n",
      "Epoch 34/50, Training Loss: 7.09259067262922, Time: 0.09792757034301758, lr: 1e-05\n",
      "Epoch 34/50, Test Accuracy: 59.19282511210762%, Time: 0.00588679313659668\n",
      "Epoch 35/50, Training Loss: 7.148228100367954, Time: 0.10556364059448242, lr: 1e-05\n",
      "Epoch 35/50, Test Accuracy: 54.7085201793722%, Time: 0.004984140396118164\n",
      "Epoch 36/50, Training Loss: 6.636624319212777, Time: 0.10121560096740723, lr: 1e-05\n",
      "Epoch 36/50, Test Accuracy: 57.847533632286996%, Time: 0.007892131805419922\n",
      "Epoch 37/50, Training Loss: 6.457588791847229, Time: 0.09418320655822754, lr: 1e-05\n",
      "Epoch 37/50, Test Accuracy: 56.95067264573991%, Time: 0.006456851959228516\n",
      "Epoch 38/50, Training Loss: 6.37801935843059, Time: 0.09294271469116211, lr: 1e-05\n",
      "Epoch 38/50, Test Accuracy: 58.29596412556054%, Time: 0.006137371063232422\n",
      "Epoch 39/50, Training Loss: 6.072403562920434, Time: 0.10993313789367676, lr: 1e-05\n",
      "Epoch 39/50, Test Accuracy: 54.26008968609865%, Time: 0.011001348495483398\n",
      "Epoch 40/50, Training Loss: 6.2554090448788235, Time: 0.14002728462219238, lr: 1e-05\n",
      "Epoch 40/50, Test Accuracy: 57.399103139013455%, Time: 0.009999752044677734\n",
      "Epoch 41/50, Training Loss: 6.403158758367811, Time: 0.12155818939208984, lr: 1e-05\n",
      "Epoch 41/50, Test Accuracy: 54.26008968609865%, Time: 0.00700068473815918\n",
      "Epoch 42/50, Training Loss: 6.206561590944018, Time: 0.11406159400939941, lr: 1e-05\n",
      "Epoch 42/50, Test Accuracy: 61.43497757847533%, Time: 0.005997657775878906\n",
      "Epoch 43/50, Training Loss: 5.981596623148237, Time: 0.12162542343139648, lr: 1e-05\n",
      "Epoch 43/50, Test Accuracy: 57.847533632286996%, Time: 0.008985519409179688\n",
      "Epoch 44/50, Training Loss: 5.9575488311903815, Time: 0.14107131958007812, lr: 1e-05\n",
      "Epoch 44/50, Test Accuracy: 55.15695067264574%, Time: 0.008000373840332031\n",
      "Epoch 45/50, Training Loss: 5.565087761197772, Time: 0.1462259292602539, lr: 1e-05\n",
      "Epoch 45/50, Test Accuracy: 55.15695067264574%, Time: 0.008995771408081055\n",
      "Epoch 46/50, Training Loss: 5.519503376313618, Time: 0.11652612686157227, lr: 1e-05\n",
      "Epoch 46/50, Test Accuracy: 56.053811659192824%, Time: 0.006985902786254883\n",
      "Epoch 47/50, Training Loss: 5.530369332858494, Time: 0.12801194190979004, lr: 1e-05\n",
      "Epoch 47/50, Test Accuracy: 57.847533632286996%, Time: 0.008059501647949219\n",
      "Epoch 48/50, Training Loss: 5.257267875330789, Time: 0.1302957534790039, lr: 1e-05\n",
      "Epoch 48/50, Test Accuracy: 56.502242152466366%, Time: 0.0078008174896240234\n",
      "Epoch 49/50, Training Loss: 5.356818548270634, Time: 0.13352656364440918, lr: 1e-05\n",
      "Epoch 49/50, Test Accuracy: 53.81165919282511%, Time: 0.007983207702636719\n",
      "Epoch 50/50, Training Loss: 5.403888327734811, Time: 0.1210174560546875, lr: 1e-05\n",
      "Epoch 50/50, Test Accuracy: 56.053811659192824%, Time: 0.006078481674194336\n",
      "Training complete.\n"
     ]
    }
   ],
   "source": [
    "# Training Loop\n",
    "\n",
    "for epoch in range(NUM_EPOCHS):\n",
    "    epoch_number = epoch\n",
    "    model.train()\n",
    "    total_loss = 0\n",
    "    strt = time()\n",
    "\n",
    "    # Training Loop\n",
    "    for inputs, labels in train_loader:\n",
    "        optimizer.zero_grad()\n",
    "        inputs = inputs.to(DEVICE)\n",
    "        labels = labels.to(DEVICE)\n",
    "\n",
    "        outputs = model(inputs)\n",
    "        loss = criterion(outputs, labels)\n",
    "\n",
    "        if torch.isnan(loss).any() or torch.isinf(loss).any():\n",
    "            print(\"NaN or Inf loss encountered\")\n",
    "            continue\n",
    "\n",
    "        loss.backward()\n",
    "\n",
    "        for p in model.parameters():\n",
    "            if p.grad is not None and (torch.isnan(p.grad).any() or torch.isinf(p.grad).any()):\n",
    "                print(\"NaN or Inf in gradients\")\n",
    "                continue\n",
    "        \n",
    "        # Again, a little overkill\n",
    "        clip_grad_norm_(model.parameters(), max_grad_norm)\n",
    "        optimizer.step()\n",
    "\n",
    "        total_loss += loss.item()\n",
    "\n",
    "    scheduler.step()\n",
    "\n",
    "    end = time()\n",
    "    print(f\"Epoch {epoch_number+1}/{NUM_EPOCHS}, Training Loss: {total_loss / len(train_loader)}, Time: {end-strt}, lr: {scheduler.get_last_lr()[0]}\")\n",
    "\n",
    "    # Testing Loop\n",
    "    model.eval()\n",
    "    correct = 0\n",
    "    total = 0\n",
    "    strt = time()\n",
    "    with torch.no_grad():\n",
    "        for inputs, labels in test_loader:\n",
    "            inputs = inputs.to(DEVICE)\n",
    "            outputs = model(inputs)\n",
    "            outputs = outputs.to(\"cpu\")\n",
    "            _, predicted = torch.max(outputs.data, 1)\n",
    "            total += labels.size(0)\n",
    "            correct += (predicted == labels).sum().item()\n",
    "    end = time()\n",
    "    print(f\"Epoch {epoch_number+1}/{NUM_EPOCHS}, Test Accuracy: {100 * correct / total}%, Time: {end-strt}\")\n",
    "\n",
    "    # Save the model\n",
    "    if (epoch % SAVE_FREQ == 0  and epoch != 0) or epoch == SAVE_FREQ - 1:\n",
    "        torch.save(model.state_dict(), f'model_epoch_{epoch_number}.pth')\n",
    "\n",
    "print(\"Training complete.\")"
   ]
  },
  {
   "cell_type": "code",
   "execution_count": 76,
   "metadata": {},
   "outputs": [],
   "source": [
    "def test(y_pred, y_test):\n",
    "        \n",
    "    print(y_pred.shape, y_test.shape)\n",
    "    \n",
    "    accuracy = accuracy_score(y_test, y_pred)\n",
    "    method = \"weighted\"\n",
    "    precision = precision_score(y_test, y_pred, average=method)\n",
    "    recall = recall_score(y_test, y_pred, average=method)\n",
    "    f1 = f1_score(y_test, y_pred, average=method)\n",
    "    \n",
    "    print(f\"Accuracy: {accuracy:.2f}\")\n",
    "    print(f\"Precision: {precision:.2f}\")\n",
    "    print(f\"Recall: {recall:.2f}\")\n",
    "    print(f\"F1: {f1:.2f}\")\n",
    "    \n",
    "    cm = confusion_matrix(y_test, y_pred)\n",
    "    labels = y_test[TARGET].unique().tolist()\n",
    "    cm_df = pd.DataFrame(cm, index=labels, columns=labels)\n",
    "    ordered_labels = sorted(labels)\n",
    "    cm_df = cm_df.reindex(index=ordered_labels, columns=ordered_labels) #, fill_value=0) \n",
    "    \n",
    "    # print(cm)\n",
    "\n",
    "    # return cm\n",
    "    print(cm_df)\n",
    "    return cm_df\n",
    "\n",
    "def plot_confusion_matrix(cm):\n",
    "    # Plots the confusion matrix\n",
    "    plt.figure(figsize=(10, 10))\n",
    "    sns.heatmap(cm, annot=True, fmt=\"d\", cmap=\"YlGnBu\", cbar=False) #, xticklabels=labels, yticklabels=labels)\n",
    "    plt.xlabel(\"Predicted\")\n",
    "    plt.ylabel(\"Actual\")\n",
    "    plt.show()"
   ]
  },
  {
   "cell_type": "code",
   "execution_count": 77,
   "metadata": {},
   "outputs": [
    {
     "name": "stdout",
     "output_type": "stream",
     "text": [
      "(223, 1) (223, 1)\n",
      "Accuracy: 0.56\n",
      "Precision: 0.58\n",
      "Recall: 0.56\n",
      "F1: 0.57\n",
      "    0   1\n",
      "0  85  58\n",
      "1  40  40\n"
     ]
    },
    {
     "data": {
      "image/png": "[encoded data removed]",
      "text/plain": [
       "<Figure size 1000x1000 with 1 Axes>"
      ]
     },
     "metadata": {},
     "output_type": "display_data"
    }
   ],
   "source": [
    "y_pred = []\n",
    "y_test = []\n",
    "model.eval()\n",
    "with torch.no_grad():\n",
    "    for inputs, labels in test_loader:\n",
    "        inputs = inputs.to(DEVICE)\n",
    "        outputs = model(inputs)\n",
    "        outputs = outputs.to(\"cpu\")\n",
    "        _, predicted = torch.max(outputs.data, 1)\n",
    "        y_pred.extend(predicted.tolist())\n",
    "        y_test.extend(labels.tolist())\n",
    "\n",
    "y_pred = pd.DataFrame(y_pred, columns=[TARGET])\n",
    "y_test = pd.DataFrame(y_test, columns=[TARGET])\n",
    "\n",
    "cm = test(y_pred, y_test)\n",
    "plot_confusion_matrix(cm)\n"
   ]
  },
  {
   "cell_type": "markdown",
   "metadata": {},
   "source": [
    "\n",
    "Given more hyperparameter tooning, time, and a bit more data, I am confident the DNN could match or outperfomr both the Random Forest and XGBoost models.  However, I was not able to fully explore these possibilities.  I only included the initial steps to demonstrate how I built the model and tested it."
   ]
  },
  {
   "cell_type": "markdown",
   "metadata": {},
   "source": [
    "# Takeaways\n",
    "\n",
    "While I feel that some of the models are able to capture the information we truly care about (minimizing the number of loans we falsely classify will be fully paid), I would have liked to produce a model with better results overall.  Given a bit more time, I would have further explored working with deep neural networks.  I would have also explored feature selection to reduce the amount of noise being passed into the traditional models."
   ]
  }
 ],
 "metadata": {
  "kernelspec": {
   "display_name": "xgboost_gpu",
   "language": "python",
   "name": "python3"
  },
  "language_info": {
   "codemirror_mode": {
    "name": "ipython",
    "version": 3
   },
   "file_extension": ".py",
   "mimetype": "text/x-python",
   "name": "python",
   "nbconvert_exporter": "python",
   "pygments_lexer": "ipython3",
   "version": "3.9.13"
  }
 },
 "nbformat": 4,
 "nbformat_minor": 2
}
